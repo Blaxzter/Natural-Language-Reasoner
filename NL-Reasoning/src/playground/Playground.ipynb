{
 "cells": [
  {
   "cell_type": "code",
   "execution_count": 1,
   "metadata": {
    "collapsed": true
   },
   "outputs": [],
   "source": [
    "import importlib"
   ]
  },
  {
   "cell_type": "code",
   "execution_count": 2,
   "outputs": [],
   "source": [
    "import logics.senteces.BaseExpression\n",
    "import logics.senteces.ConnectedExpression\n",
    "import logics.senteces.WhenExpression\n",
    "import logics.senteces.Helper\n",
    "def reload():\n",
    "    importlib.reload(logics.senteces.BaseExpression)\n",
    "    importlib.reload(logics.senteces.ConnectedExpression)\n",
    "    importlib.reload(logics.senteces.WhenExpression)\n",
    "    importlib.reload(logics.senteces.Helper)"
   ],
   "metadata": {
    "collapsed": false,
    "pycharm": {
     "name": "#%%\n"
    }
   }
  },
  {
   "cell_type": "code",
   "execution_count": 3,
   "outputs": [],
   "source": [
    "reload()\n",
    "from logics.senteces.BaseExpression import BaseExpression\n",
    "\n",
    "base_expression = BaseExpression('It is raining')\n",
    "base_expression2 = BaseExpression('It is not raining')"
   ],
   "metadata": {
    "collapsed": false,
    "pycharm": {
     "name": "#%%\n"
    }
   }
  },
  {
   "cell_type": "code",
   "execution_count": 4,
   "outputs": [
    {
     "name": "stdout",
     "output_type": "stream",
     "text": [
      "it is raining\n",
      "it is not raining\n"
     ]
    }
   ],
   "source": [
    "print(base_expression.get_string_rep())\n",
    "print(base_expression2.get_string_rep())"
   ],
   "metadata": {
    "collapsed": false,
    "pycharm": {
     "name": "#%%\n"
    }
   }
  },
  {
   "cell_type": "code",
   "execution_count": 5,
   "outputs": [
    {
     "name": "stdout",
     "output_type": "stream",
     "text": [
      "it is raining\n"
     ]
    }
   ],
   "source": [
    "base_expression.reverse_expression()\n",
    "print(base_expression.get_string_rep())"
   ],
   "metadata": {
    "collapsed": false,
    "pycharm": {
     "name": "#%%\n"
    }
   }
  },
  {
   "cell_type": "code",
   "execution_count": 6,
   "outputs": [
    {
     "name": "stdout",
     "output_type": "stream",
     "text": [
      "it is raining\n"
     ]
    }
   ],
   "source": [
    "base_expression.reverse_expression()\n",
    "print(base_expression.get_string_rep())"
   ],
   "metadata": {
    "collapsed": false,
    "pycharm": {
     "name": "#%%\n"
    }
   }
  },
  {
   "cell_type": "code",
   "execution_count": 7,
   "outputs": [],
   "source": [
    "reload()\n",
    "from logics.senteces.WhenExpression import WhenExpression\n",
    "\n",
    "when_expression = WhenExpression('When it is raining, it is not wet')\n",
    "when_expression_1 = WhenExpression('When it is raining and i am dirty, it is not wet')"
   ],
   "metadata": {
    "collapsed": false,
    "pycharm": {
     "name": "#%%\n"
    }
   }
  },
  {
   "cell_type": "code",
   "execution_count": 11,
   "outputs": [
    {
     "data": {
      "text/plain": "'neither you are cool and you are not cool'"
     },
     "execution_count": 11,
     "metadata": {},
     "output_type": "execute_result"
    }
   ],
   "source": [
    "reload()\n",
    "from logics.senteces.ConnectedExpression import ConnectedExpression\n",
    "\n",
    "conn_expression = ConnectedExpression('It is not the case that You are cool and you are not cool')\n",
    "conn_expression.get_string_rep()"
   ],
   "metadata": {
    "collapsed": false,
    "pycharm": {
     "name": "#%%\n"
    }
   }
  },
  {
   "cell_type": "code",
   "execution_count": 12,
   "outputs": [
    {
     "data": {
      "text/plain": "'we are cool and you are cool and they are cool'"
     },
     "execution_count": 12,
     "metadata": {},
     "output_type": "execute_result"
    }
   ],
   "source": [
    "reload()\n",
    "from logics.senteces.ConnectedExpression import ConnectedExpression\n",
    "\n",
    "conn_expression = ConnectedExpression('We are cool and you are cool and they are cool')\n",
    "conn_expression.get_string_rep()\n",
    "\n",
    "reload()\n",
    "from logics.senteces.ConnectedExpression import ConnectedExpression\n",
    "\n",
    "conn_expression = create_expression('We are cool and you are cool and they are cool')\n",
    "conn_expression.get_string_rep()\n"
   ],
   "metadata": {
    "collapsed": false,
    "pycharm": {
     "name": "#%%\n"
    }
   }
  },
  {
   "cell_type": "code",
   "execution_count": 5,
   "outputs": [
    {
     "data": {
      "text/plain": "True"
     },
     "execution_count": 5,
     "metadata": {},
     "output_type": "execute_result"
    }
   ],
   "source": [
    "def check_if_list_in_list(check_list, reference_list):\n",
    "    \"\"\"\n",
    "    We search whether the check list occures in the reference list\n",
    "    :param check_list:\n",
    "    :param reference_list:\n",
    "    :return:\n",
    "    \"\"\"\n",
    "    search_index = 0\n",
    "    while True:\n",
    "        if check_list[0] in reference_list[search_index:]:\n",
    "            first_index = reference_list[search_index:].index(check_list[0])\n",
    "            found = True\n",
    "            for i, tokens in enumerate(check_list[1:]):\n",
    "                if reference_list[search_index:][first_index + (i + 1)] != tokens:\n",
    "                    found = False\n",
    "                    break\n",
    "            if found:\n",
    "                return found\n",
    "            else:\n",
    "                search_index = first_index + 1\n",
    "        else:\n",
    "            return False\n",
    "check_if_list_in_list(['a','c'], ['a','b','a','c'])"
   ],
   "metadata": {
    "collapsed": false,
    "pycharm": {
     "name": "#%%\n"
    }
   }
  }
 ],
 "metadata": {
  "kernelspec": {
   "display_name": "Python 3",
   "language": "python",
   "name": "python3"
  },
  "language_info": {
   "codemirror_mode": {
    "name": "ipython",
    "version": 2
   },
   "file_extension": ".py",
   "mimetype": "text/x-python",
   "name": "python",
   "nbconvert_exporter": "python",
   "pygments_lexer": "ipython2",
   "version": "2.7.6"
  }
 },
 "nbformat": 4,
 "nbformat_minor": 0
}