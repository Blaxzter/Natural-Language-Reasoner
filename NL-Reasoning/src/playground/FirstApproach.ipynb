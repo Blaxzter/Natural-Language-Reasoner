{
 "cells": [
  {
   "cell_type": "code",
   "execution_count": 1,
   "metadata": {
    "collapsed": true
   },
   "outputs": [],
   "source": [
    "from collections import defaultdict\n",
    "from typing import List\n",
    "hypo_1 = 'John plays football or chess'\n",
    "hypo_2 = 'When its raining, John does not play football'\n",
    "hypo_3 = 'It is raining'"
   ]
  },
  {
   "cell_type": "code",
   "execution_count": 2,
   "outputs": [],
   "source": [
    "def detect_sentence_structure(sentence_tokens):\n",
    "    if sentence_tokens is None or type(sentence_tokens) is not list or len(sentence_tokens) == 0:\n",
    "            raise ValueError(\"Sentence structure detection only works for token lists. \"\n",
    "                             \"And the token list is not empty\")\n",
    "\n",
    "    # TODO support multiple sentence base structures\n",
    "\n",
    "    # Basic structure: A is B\n",
    "    if len(sentence_tokens) == 3 and sentence_tokens[1] == \"is\":\n",
    "        return 1\n",
    "\n",
    "    # Basic structure: A does B\n",
    "    if len(sentence_tokens) == 3:\n",
    "        return 2\n",
    "\n",
    "    # Inverted basic structure: A is not B\n",
    "    if len(sentence_tokens) == 4 and sentence_tokens[1] == \"is\":\n",
    "        return 3\n",
    "\n",
    "    # Inverted basic structure: A does not B\n",
    "    # Split because maybe we want to check: A does not do B or doesn't\n",
    "    if len(sentence_tokens) == 4:\n",
    "        return 4\n",
    "\n",
    "    raise ValueError(f'Sentence structure is not detected: {str(sentence_tokens)}')"
   ],
   "metadata": {
    "collapsed": false,
    "pycharm": {
     "name": "#%%\n"
    }
   }
  },
  {
   "cell_type": "code",
   "execution_count": 5,
   "outputs": [
    {
     "data": {
      "text/plain": "True"
     },
     "execution_count": 5,
     "metadata": {},
     "output_type": "execute_result"
    }
   ],
   "source": [
    "class Expression:\n",
    "    def __init__(self, hypothesis):\n",
    "        \n",
    "        if hypothesis is None or type(hypothesis) is not str:\n",
    "            raise ValueError(\"A hypothesis needs to be of type string and can't be empty.\")\n",
    "        \n",
    "        self.init_hypo = hypothesis.lower()         # Only use lower case\n",
    "        self.tokens: List = self.init_hypo.split(\" \")     # Split hypo into tokens\n",
    "        self.split_references()\n",
    "\n",
    "        # A base expression has a few cases\n",
    "        self.is_base_expression = False\n",
    "        # Simple test if we have 3 or 4 (in not case) tokens then it is a base expression\n",
    "        if len(self) == 3 or len(self) == 4:\n",
    "            self.is_base_expression = True\n",
    "\n",
    "    def split_references(self):\n",
    "        \"\"\"\n",
    "        Splits the sentence that references previous subjects into multiple base tokens\n",
    "        TODO Should probably be rewritten to check if separated by semicolon\n",
    "        :return:\n",
    "        \"\"\"\n",
    "        for reference in ['or', 'and']:\n",
    "            if reference in self.tokens:\n",
    "                reference_idx = self.tokens.index(reference)\n",
    "                right_tokens = self.tokens[reference_idx + 1:]\n",
    "\n",
    "                # If the right sentence is not just one word we dont support that atm\n",
    "\n",
    "                if len(self) != 1:\n",
    "                    continue\n",
    "\n",
    "                base_tokens = self.tokens[:reference_idx - 1]\n",
    "                left_tokens = self.tokens[:reference_idx]\n",
    "                \n",
    "                self.tokens = left_tokens + [reference] + base_tokens + right_tokens\n",
    "\n",
    "    def reverse_expression(self):\n",
    "        \"\"\"\n",
    "        Function that inserts a not or removes it\n",
    "        :return: The hypothesis reversed\n",
    "        \"\"\"\n",
    "        # Cant reverse expression if not base expression\n",
    "        if not self.is_base_expression:\n",
    "            return\n",
    "\n",
    "        # TODO decide if we want to use a flag for a expression or use not (currently)\n",
    "        sentence_structure = detect_sentence_structure(self.tokens)\n",
    "\n",
    "        if sentence_structure == 1 or sentence_structure == 2:\n",
    "            self.tokens.insert(2, \"not\")\n",
    "            return\n",
    "        elif sentence_structure == 3 or sentence_structure == 4:\n",
    "            self.tokens.remove(\"not\")\n",
    "            return\n",
    "\n",
    "        raise ValueError(f'Hypothesis cant be reversed: {str(self)}')\n",
    "\n",
    "    def is_tautologie_of(self, clause):\n",
    "\n",
    "        if not self.is_base_expression or not clause.is_base_expression:\n",
    "            return False\n",
    "\n",
    "        shorter_clause = None\n",
    "        longer_clause = None\n",
    "\n",
    "        if len(self) == len(clause) + 1:\n",
    "            shorter_clause = clause\n",
    "            longer_clause = self\n",
    "        elif len(self) == len(clause) - 1:\n",
    "            shorter_clause = self\n",
    "            longer_clause = clause\n",
    "        else:\n",
    "            return False\n",
    "\n",
    "        # Go over each token check for equals and also if not is on the correct location\n",
    "        # Probably not to smart :sweat_smile:\n",
    "        j = 0\n",
    "        for token in longer_clause.tokens:\n",
    "            if token == \"not\":\n",
    "                continue\n",
    "            if token != shorter_clause.tokens[j]:\n",
    "                return False\n",
    "            j += 1\n",
    "\n",
    "\n",
    "        return True\n",
    "\n",
    "    def __str__(self):\n",
    "        return str(self.tokens)\n",
    "\n",
    "    def __len__(self):\n",
    "        return len(self.tokens)"
   ],
   "metadata": {
    "collapsed": false,
    "pycharm": {
     "name": "#%%\n"
    }
   }
  },
  {
   "cell_type": "code",
   "execution_count": 7,
   "outputs": [
    {
     "name": "stdout",
     "output_type": "stream",
     "text": [
      "['it', 'is', 'raining']\n",
      "['it', 'is', 'not', 'raining']\n",
      "['it', 'is', 'raining']\n"
     ]
    }
   ],
   "source": [
    "exp = Expression(hypo_3)\n",
    "print(exp)\n",
    "exp.reverse_expression()\n",
    "print(exp)\n",
    "exp.reverse_expression()\n",
    "print(exp)"
   ],
   "metadata": {
    "collapsed": false,
    "pycharm": {
     "name": "#%%\n"
    }
   }
  },
  {
   "cell_type": "code",
   "execution_count": 6,
   "outputs": [
    {
     "name": "stdout",
     "output_type": "stream",
     "text": [
      "True\n",
      "True\n",
      "False\n",
      "False\n"
     ]
    }
   ],
   "source": [
    "exp_1 = Expression(hypo_3)\n",
    "exp_2 = Expression(hypo_3)\n",
    "exp_2.reverse_expression()\n",
    "\n",
    "print(exp_1.is_tautologie_of(exp_2))\n",
    "print(exp_2.is_tautologie_of(exp_1))\n",
    "print(exp_2.is_tautologie_of(exp_2))\n",
    "print(exp_1.is_tautologie_of(exp_1))"
   ],
   "metadata": {
    "collapsed": false,
    "pycharm": {
     "name": "#%%\n"
    }
   }
  },
  {
   "cell_type": "code",
   "execution_count": null,
   "outputs": [],
   "source": [
    "class TableauxSolver:\n",
    "    \n",
    "    def __init__(self, hypothesis, thesis):\n",
    "        \n",
    "        self.hypothesis: [Expression] = hypothesis\n",
    "        self.thesis: Expression = thesis\n",
    "\n",
    "    def proof(self):\n",
    "        try:\n",
    "            clauses = []\n",
    "            for claus in self.hypothesis:\n",
    "                clauses.append(claus)\n",
    "            self.thesis.reverse_expression()\n",
    "            clauses.append(self.thesis)\n",
    "            result, applied_rules = self.recursive_proof(clauses)\n",
    "        except RuntimeError as e:\n",
    "            print(e)\n",
    "            raise e\n",
    "        return result, applied_rules\n",
    "\n",
    "    @staticmethod\n",
    "    def check_for_tautology(hypothesis: Expression, clauses: [Expression]):\n",
    "        for clause in clauses:\n",
    "            if hypothesis.is_tautologie_of(clause):\n",
    "                return True\n",
    "        return True\n",
    "\n",
    "    @staticmethod\n",
    "    def recursive_proof(clauses):\n",
    "        # map indices to lists of indices, to store attempted unifications\n",
    "        tried = defaultdict(list)\n",
    "\n",
    "        i = 0\n",
    "        while i < len(clauses):\n",
    "            if not clauses[i].is_tautology():\n",
    "                # since we try clauses in order, we should start after the last\n",
    "                # index tried\n",
    "                if tried[i]:\n",
    "                    j = tried[i][-1] + 1\n",
    "                else:\n",
    "                    j = i + 1  # nothing tried yet for 'i', so start with the next\n",
    "\n",
    "                while j < len(clauses):\n",
    "                    # don't: 1) unify a clause with itself,\n",
    "                    #       2) use tautologies\n",
    "                    if i != j and j and not clauses[j].is_tautology():\n",
    "                        tried[i].append(j)\n",
    "                        newclauses = clauses[i].unify(clauses[j])\n",
    "                        if newclauses:\n",
    "                            for newclause in newclauses:\n",
    "                                newclause._parents = (i + 1, j + 1)\n",
    "                                clauses.append(newclause)\n",
    "                                if not len(newclause):  # if there's an empty clause\n",
    "                                    return True, clauses\n",
    "                            i = -1  # since we added a new clause, restart from the top\n",
    "                            break\n",
    "                    j += 1\n",
    "            i += 1\n",
    "        return False, clauses\n",
    "    \n"
   ],
   "metadata": {
    "collapsed": false,
    "pycharm": {
     "name": "#%%\n"
    }
   }
  }
 ],
 "metadata": {
  "kernelspec": {
   "name": "python3",
   "language": "python",
   "display_name": "Python 3"
  },
  "language_info": {
   "codemirror_mode": {
    "name": "ipython",
    "version": 2
   },
   "file_extension": ".py",
   "mimetype": "text/x-python",
   "name": "python",
   "nbconvert_exporter": "python",
   "pygments_lexer": "ipython2",
   "version": "2.7.6"
  }
 },
 "nbformat": 4,
 "nbformat_minor": 0
}