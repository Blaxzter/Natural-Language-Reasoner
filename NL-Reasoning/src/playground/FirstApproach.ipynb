{
 "cells": [
  {
   "cell_type": "code",
   "execution_count": 1,
   "metadata": {
    "collapsed": true
   },
   "outputs": [],
   "source": [
    "from typing import List\n",
    "hypo_1 = 'John plays football or chess'\n",
    "hypo_2 = 'When its raining, John does not play football'\n",
    "hypo_3 = 'It is raining'"
   ]
  },
  {
   "cell_type": "code",
   "execution_count": 2,
   "outputs": [],
   "source": [
    "def detect_sentence_structure(sentence_tokens):\n",
    "    if sentence_tokens is None or type(sentence_tokens) is not list or len(sentence_tokens) == 0:\n",
    "            raise ValueError(\"Sentence structure detection only works for token lists. \"\n",
    "                             \"And the token list is not empty\")\n",
    "\n",
    "    # TODO support multiple sentence base structures\n",
    "\n",
    "    # Basic structure: A is B\n",
    "    if len(sentence_tokens) == 3 and sentence_tokens[1] == \"is\":\n",
    "        return 1\n",
    "\n",
    "    # Basic structure: A does B\n",
    "    if len(sentence_tokens) == 3:\n",
    "        return 2\n",
    "\n",
    "    # Inverted basic structure: A is not B\n",
    "    if len(sentence_tokens) == 4 and sentence_tokens[1] == \"is\":\n",
    "        return 3\n",
    "\n",
    "    # Inverted basic structure: A does not B\n",
    "    # Split because maybe we want to check: A does not do B or doesn't\n",
    "    if len(sentence_tokens) == 4:\n",
    "        return 4\n",
    "\n",
    "    raise ValueError(f'Sentence structure is not detected: {str(sentence_tokens)}')"
   ],
   "metadata": {
    "collapsed": false,
    "pycharm": {
     "name": "#%%\n"
    }
   }
  },
  {
   "cell_type": "code",
   "execution_count": 4,
   "outputs": [
    {
     "name": "stdout",
     "output_type": "stream",
     "text": [
      "['it', 'is', 'raining']\n",
      "['it', 'is', 'not', 'raining']\n",
      "['it', 'is', 'raining']\n"
     ]
    }
   ],
   "source": [
    "class Expression:\n",
    "    def __init__(self, hypothesis):\n",
    "        \n",
    "        if hypothesis is None or type(hypothesis) is not str:\n",
    "            raise ValueError(\"A hypothesis needs to be of type string and can't be empty.\")\n",
    "        \n",
    "        self.init_hypo = hypothesis.lower()         # Only use lower case\n",
    "        self.tokens: List = self.init_hypo.split(\" \")     # Split hypo into tokens\n",
    "        self.split_references()\n",
    "\n",
    "        # A base expression has a few cases\n",
    "        self.is_base_expression = False\n",
    "        \n",
    "    def split_references(self):\n",
    "        for reference in ['or', 'and']:\n",
    "            if reference in self.tokens:\n",
    "                reference_idx = self.tokens.index(reference)\n",
    "                right_tokens = self.tokens[reference_idx + 1:]\n",
    "                base_tokens = self.tokens[:reference_idx - 1]\n",
    "                left_tokens = self.tokens[:reference_idx]\n",
    "                \n",
    "                self.tokens = left_tokens + [reference] + base_tokens + right_tokens\n",
    "\n",
    "    def reverse_expression(self):\n",
    "        \"\"\"\n",
    "        Function that inserts a not or removes it\n",
    "        :return: The hypothesis reversed\n",
    "        \"\"\"\n",
    "        # TODO decide if we want to use a flag for a expression or use not\n",
    "        sentence_structure = detect_sentence_structure(self.tokens)\n",
    "\n",
    "        if sentence_structure == 1 or sentence_structure == 2:\n",
    "            self.tokens.insert(2, \"not\")\n",
    "            return\n",
    "        elif sentence_structure == 3 or sentence_structure == 4:\n",
    "            self.tokens.remove(\"not\")\n",
    "            return\n",
    "\n",
    "        raise ValueError(f'Hypothesis cant be reversed: {str(self)}')\n",
    "\n",
    "    def __str__(self):\n",
    "        return str(self.tokens)\n",
    "\n",
    "exp = Expression(hypo_3)\n",
    "print(exp)\n",
    "exp.reverse_expression()\n",
    "print(exp)\n",
    "exp.reverse_expression()\n",
    "print(exp)"
   ],
   "metadata": {
    "collapsed": false,
    "pycharm": {
     "name": "#%%\n"
    }
   }
  },
  {
   "cell_type": "code",
   "execution_count": null,
   "outputs": [],
   "source": [
    "\n",
    "hypo_1.lower()\n",
    "tokens = hypo_1.split(\" \")\n",
    "\"or\" in tokens\n",
    "tokens[tokens.index(\"or\") + 1:]\n",
    "tokens[:tokens.index(\"or\") - 1]"
   ],
   "metadata": {
    "collapsed": false,
    "pycharm": {
     "name": "#%%\n"
    }
   }
  },
  {
   "cell_type": "code",
   "execution_count": null,
   "outputs": [],
   "source": [
    "\n",
    "class TableauxSolver:\n",
    "    \n",
    "    def __init__(self, hypothesis, thesis):\n",
    "        \n",
    "        self.hypothesis = hypothesis\n",
    "        self.thesis = thesis\n",
    "        \n",
    "    \n"
   ],
   "metadata": {
    "collapsed": false,
    "pycharm": {
     "name": "#%%\n"
    }
   }
  }
 ],
 "metadata": {
  "kernelspec": {
   "name": "python3",
   "language": "python",
   "display_name": "Python 3"
  },
  "language_info": {
   "codemirror_mode": {
    "name": "ipython",
    "version": 2
   },
   "file_extension": ".py",
   "mimetype": "text/x-python",
   "name": "python",
   "nbconvert_exporter": "python",
   "pygments_lexer": "ipython2",
   "version": "2.7.6"
  }
 },
 "nbformat": 4,
 "nbformat_minor": 0
}