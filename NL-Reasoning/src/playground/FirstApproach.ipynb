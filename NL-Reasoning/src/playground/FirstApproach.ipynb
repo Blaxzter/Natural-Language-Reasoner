{
 "cells": [
  {
   "cell_type": "code",
   "execution_count": 1,
   "outputs": [],
   "source": [
    "from collections import defaultdict\n",
    "from dataclasses import dataclass, field\n",
    "from typing import List, Dict, Callable\n",
    "from graphviz import Digraph"
   ],
   "metadata": {
    "collapsed": false,
    "pycharm": {
     "name": "#%%\n"
    }
   }
  },
  {
   "cell_type": "code",
   "execution_count": 2,
   "outputs": [],
   "source": [
    "\n",
    "hypo_1 = 'John plays football or chess'\n",
    "hypo_2 = 'When it is raining, John plays not football'\n",
    "hypo_3 = 'It is raining'\n"
   ],
   "metadata": {
    "collapsed": false,
    "pycharm": {
     "name": "#%%\n"
    }
   }
  },
  {
   "cell_type": "code",
   "execution_count": 3,
   "outputs": [],
   "source": [
    "def tokenize(sentence: str):\n",
    "    tokens = sentence.split(\" \")\n",
    "    ret_tokens = []\n",
    "    for i, token in enumerate(tokens):\n",
    "        if ',' in token:\n",
    "            c_token = token.split(',')\n",
    "            ret_tokens.append(c_token[0])\n",
    "            ret_tokens.append(',')\n",
    "        else:\n",
    "            ret_tokens.append(token)\n",
    "\n",
    "    return ret_tokens\n",
    "\n",
    "\n",
    "def detect_sentence_structure(sentence_tokens):\n",
    "    if sentence_tokens is None or type(sentence_tokens) is not list or len(sentence_tokens) == 0:\n",
    "        raise ValueError(\"Sentence structure detection only works for token lists. \"\n",
    "                         \"And the token list is not empty\")\n",
    "\n",
    "    # TODO support multiple sentence base structures\n",
    "    # does not play vs plays not ...\n",
    "    # TODO maybe we need to do a bit more elaborate approach besides the length\n",
    "\n",
    "    # Basic structure: A is B\n",
    "    if len(sentence_tokens) == 3 and sentence_tokens[1] == \"is\":\n",
    "        return 1\n",
    "\n",
    "    # Basic structure: A does B\n",
    "    if len(sentence_tokens) == 3:\n",
    "        return 2\n",
    "\n",
    "    # Inverted basic structure: A is not B\n",
    "    if len(sentence_tokens) == 4 and sentence_tokens[1] == \"is\":\n",
    "        return 3\n",
    "\n",
    "    # Inverted basic structure: A does not B\n",
    "    # Split because maybe we want to check: A does not do B or doesn't\n",
    "    if len(sentence_tokens) == 4:\n",
    "        return 4\n",
    "\n",
    "    raise ValueError(f'Sentence structure is not detected: {str(sentence_tokens)}')\n"
   ],
   "metadata": {
    "collapsed": false,
    "pycharm": {
     "name": "#%%\n"
    }
   }
  },
  {
   "cell_type": "code",
   "execution_count": 4,
   "outputs": [],
   "source": [
    "class Expression:\n",
    "\n",
    "    id_counter = 0\n",
    "\n",
    "    def __init__(self, hypothesis):\n",
    "\n",
    "        if hypothesis is None or (type(hypothesis) is not str and type(hypothesis) is not list):\n",
    "            raise ValueError(\"A hypothesis needs to be of type string or token list and can't be empty.\")\n",
    "\n",
    "        self.id = Expression.id_counter\n",
    "        Expression.id_counter += 1\n",
    "\n",
    "        if type(hypothesis) is str:\n",
    "            self.init_hypo = hypothesis.lower()  # Only use lower case\n",
    "            self.tokens: List = tokenize(self.init_hypo)  # Split hypo into tokens\n",
    "        else:\n",
    "            self.init_hypo = \" \".join(hypothesis)\n",
    "            self.tokens = hypothesis\n",
    "\n",
    "        self.split_references()\n",
    "\n",
    "        # A base expression has a few cases\n",
    "        self.is_base_expression = False\n",
    "        # Simple test if we have 3 or 4 (in not case) tokens then it is a base expression\n",
    "        if len(self) == 3 or len(self) == 4:\n",
    "            self.is_base_expression = True\n",
    "\n",
    "    def split_references(self):\n",
    "        \"\"\"\n",
    "        Splits the sentence that references previous subjects into multiple base tokens\n",
    "        TODO Should probably be rewritten to check if separated by semicolon\n",
    "        :return:\n",
    "        \"\"\"\n",
    "        for reference in ['or', 'and']:\n",
    "            if reference in self.tokens:\n",
    "                reference_idx = self.tokens.index(reference)\n",
    "                right_tokens = self.tokens[reference_idx + 1:]\n",
    "\n",
    "                # If the right sentence is not just one word we dont support that atm\n",
    "                if len(right_tokens) != 1:\n",
    "                    continue\n",
    "\n",
    "                base_tokens = self.tokens[:reference_idx - 1]\n",
    "                left_tokens = self.tokens[:reference_idx]\n",
    "\n",
    "                self.tokens = left_tokens + [reference] + base_tokens + right_tokens\n",
    "\n",
    "    def reverse_expression(self):\n",
    "        \"\"\"\n",
    "        Function that inserts a not or removes it\n",
    "        :return: The hypothesis reversed\n",
    "        \"\"\"\n",
    "        # Cant reverse expression if not base expression\n",
    "        if not self.is_base_expression:\n",
    "            return\n",
    "\n",
    "        # TODO decide if we want to use a flag for a expression or use not (currently)\n",
    "        sentence_structure = detect_sentence_structure(self.tokens)\n",
    "\n",
    "        if sentence_structure == 1 or sentence_structure == 2:\n",
    "            self.tokens.insert(2, \"not\")\n",
    "            return\n",
    "        elif sentence_structure == 3 or sentence_structure == 4:\n",
    "            self.tokens.remove(\"not\")\n",
    "            return\n",
    "\n",
    "        raise ValueError(f'Hypothesis cant be reversed: {str(self)}')\n",
    "\n",
    "    def is_tautologie_of(self, clause):\n",
    "\n",
    "        if not self.is_base_expression or not clause.is_base_expression:\n",
    "            return False\n",
    "\n",
    "        shorter_clause = None\n",
    "        longer_clause = None\n",
    "\n",
    "        if len(self) == len(clause) + 1:\n",
    "            shorter_clause = clause\n",
    "            longer_clause = self\n",
    "        elif len(self) == len(clause) - 1:\n",
    "            shorter_clause = self\n",
    "            longer_clause = clause\n",
    "        else:\n",
    "            return False\n",
    "\n",
    "        # Go over each token check for equals and also if not is on the correct location\n",
    "        # Probably not to smart :sweat_smile:\n",
    "        j = 0\n",
    "        for token in longer_clause.tokens:\n",
    "            if token == \"not\":\n",
    "                continue\n",
    "            if token != shorter_clause.tokens[j]:\n",
    "                return False\n",
    "            j += 1\n",
    "\n",
    "        return True\n",
    "\n",
    "    def get_string_rep(self):\n",
    "        return \" \".join(self.tokens)\n",
    "\n",
    "    def __str__(self):\n",
    "        return str(self.tokens)\n",
    "\n",
    "    def __repr__(self):\n",
    "        return f'{self.tokens}'\n",
    "\n",
    "    def __len__(self):\n",
    "        return len(self.tokens)\n",
    "\n",
    "    def is_applicable(self, param):\n",
    "        # Simple structure expected for now explanation further down for now just a in check\n",
    "        # TODO more elaborate // Add hierarchical structure\n",
    "        if self.is_base_expression:\n",
    "            return False\n",
    "\n",
    "        return param in self.tokens\n",
    "\n",
    "    def get_applicable_token(self, split_token):\n",
    "        # Simple structure expected for now explanation further down for now just a in check\n",
    "        # TODO more elaborate // Add hierarchical structure\n",
    "        if split_token == 'and' or split_token == 'or':\n",
    "            return self.tokens.index(split_token)\n",
    "        elif split_token == 'when':\n",
    "            # Probably dont want to support hierarchical structures with when expression\n",
    "            return self.tokens.index(',')\n",
    "\n",
    "        raise NotImplementedError(\"The rule has not been implemented yet.\")\n"
   ],
   "metadata": {
    "collapsed": false,
    "pycharm": {
     "name": "#%%\n"
    }
   }
  },
  {
   "cell_type": "code",
   "execution_count": 5,
   "outputs": [
    {
     "name": "stdout",
     "output_type": "stream",
     "text": [
      "['it', 'is', 'raining']\n",
      "['it', 'is', 'not', 'raining']\n",
      "['it', 'is', 'raining']\n"
     ]
    }
   ],
   "source": [
    "exp = Expression(hypo_3)\n",
    "print(exp)\n",
    "exp.reverse_expression()\n",
    "print(exp)\n",
    "exp.reverse_expression()\n",
    "print(exp)"
   ],
   "metadata": {
    "collapsed": false,
    "pycharm": {
     "name": "#%%\n"
    }
   }
  },
  {
   "cell_type": "code",
   "execution_count": 6,
   "outputs": [
    {
     "name": "stdout",
     "output_type": "stream",
     "text": [
      "True\n",
      "True\n",
      "False\n",
      "False\n"
     ]
    }
   ],
   "source": [
    "exp_1 = Expression(hypo_3)\n",
    "exp_2 = Expression(hypo_3)\n",
    "exp_2.reverse_expression()\n",
    "\n",
    "print(exp_1.is_tautologie_of(exp_2))\n",
    "print(exp_2.is_tautologie_of(exp_1))\n",
    "print(exp_2.is_tautologie_of(exp_2))\n",
    "print(exp_1.is_tautologie_of(exp_1))\n"
   ],
   "metadata": {
    "collapsed": false,
    "pycharm": {
     "name": "#%%\n"
    }
   }
  },
  {
   "cell_type": "code",
   "execution_count": 7,
   "outputs": [],
   "source": [
    "# Assume simple structure for now with a and b ... no a and b or c and d\n",
    "# For that we would need to do a binding check or something and convert\n",
    "# the Expression into a hierarchical structure and call something like is applicable\n",
    "# In the case of a and b or c and d it would be like this (a and b) or (c and d) and i\n",
    "# dont think you can apply the and rule here\n",
    "\n",
    "def simple_split_rule(clause: Expression, split_token: str):\n",
    "    # if the rule is not applicable then return empty list\n",
    "    if not clause.is_applicable(split_token):\n",
    "        return []\n",
    "\n",
    "    index_of_rule = clause.get_applicable_token(split_token)\n",
    "    return [Expression(clause.tokens[:index_of_rule]), Expression(clause.tokens[index_of_rule + 1:])]\n",
    "\n",
    "\n",
    "def and_rule(clause: Expression) -> Dict:\n",
    "    new_clauses = defaultdict(list)\n",
    "\n",
    "    split_token = 'and'\n",
    "    split_expressions = simple_split_rule(clause, split_token)\n",
    "    if len(split_expressions) != 0:\n",
    "        new_clauses[0] += split_expressions\n",
    "    return new_clauses\n",
    "\n",
    "\n",
    "def or_rule(clause: Expression) -> Dict:\n",
    "    new_clauses = defaultdict(list)\n",
    "\n",
    "    split_token = 'or'\n",
    "    split_expressions = simple_split_rule(clause, split_token)\n",
    "    for i, split_expression in enumerate(split_expressions):\n",
    "        new_clauses[i].append(split_expression)\n",
    "    return new_clauses\n",
    "\n",
    "\n",
    "def when_rule(clause: Expression):\n",
    "    new_clauses = defaultdict(list)\n",
    "\n",
    "    if not clause.is_applicable('when'):\n",
    "        return new_clauses\n",
    "\n",
    "    split_index = clause.get_applicable_token('when')\n",
    "    left_tokens = list(clause.tokens[:split_index])\n",
    "    right_tokens = list(clause.tokens[split_index + 1:])\n",
    "\n",
    "    if 'when' in left_tokens:\n",
    "        when_token = left_tokens\n",
    "        not_when_token = right_tokens\n",
    "    else:\n",
    "        not_when_token = left_tokens\n",
    "        when_token = right_tokens\n",
    "\n",
    "    when_token.remove('when')\n",
    "    when_expression = Expression(when_token)\n",
    "    when_expression.reverse_expression()\n",
    "    new_clauses[0].append(when_expression)\n",
    "    new_clauses[1].append(Expression(not_when_token))\n",
    "    return new_clauses\n",
    "\n",
    "\n",
    "# Order is important, try to not branch to early\n",
    "rule_set: Dict[str, Callable[[Expression], Dict[int, Expression]]] = dict(\n",
    "    and_rule = and_rule,\n",
    "    or_rule = or_rule,\n",
    "    when_rule = when_rule,\n",
    ")\n"
   ],
   "metadata": {
    "collapsed": false,
    "pycharm": {
     "name": "#%%\n"
    }
   }
  },
  {
   "cell_type": "code",
   "execution_count": 8,
   "outputs": [],
   "source": [
    "@dataclass()\n",
    "class AppliedRule:\n",
    "    rule_name: str = field()\n",
    "    referenced_line: int = field()\n",
    "    c_expression: Expression = field(default = None, compare = False, hash = False)\n",
    "    matched_expression: Expression = field(default = None, compare = False, hash = False)\n",
    "    created_expressions: List[Expression] = field(default = None, compare = False, hash = False)\n",
    "\n",
    "    def __lt__(self, other):\n",
    "        return len(self.position) - len(other.position)"
   ],
   "metadata": {
    "collapsed": false,
    "pycharm": {
     "name": "#%%\n"
    }
   }
  },
  {
   "cell_type": "code",
   "execution_count": 9,
   "outputs": [],
   "source": [
    "import pydot\n",
    "\n",
    "\n",
    "class TreeGenerator:\n",
    "\n",
    "    def __init__(self, premise):\n",
    "        self.graph = pydot.Dot('applied_rules', graph_type = 'graph')\n",
    "        self.root_node = pydot.Node(0, label = self.get_rule_string(premise, \"Initial root\", None), shape = 'none')\n",
    "        self.graph.add_node(self.root_node)\n",
    "        self.node_id = 1\n",
    "\n",
    "    def add_node(self, parent_node, applied_rule):\n",
    "        new_nodes = []\n",
    "\n",
    "        if applied_rule.created_expressions is None:\n",
    "            new_node = pydot.Node(self.node_id, label = f'{self.get_rule_string([applied_rule.c_expression, applied_rule.matched_expression], applied_rule.rule_name, applied_rule.referenced_line)}', shape = 'none')\n",
    "            self.graph.add_node(new_node)\n",
    "            my_edge = pydot.Edge(parent_node.get_name(), str(self.node_id))\n",
    "            self.graph.add_edge(my_edge)\n",
    "            self.node_id += 1\n",
    "            new_nodes.append(new_node)\n",
    "        else:\n",
    "            for new_exp in applied_rule.created_expressions.values():\n",
    "                new_node = pydot.Node(self.node_id, label = f'{self.get_rule_string(new_exp, applied_rule.rule_name, applied_rule.referenced_line)}', shape = 'none')\n",
    "                self.graph.add_node(new_node)\n",
    "\n",
    "                my_edge = pydot.Edge(parent_node.get_name(), str(self.node_id))\n",
    "                self.graph.add_edge(my_edge)\n",
    "                self.node_id += 1\n",
    "                new_nodes.append(new_node)\n",
    "        return new_nodes\n",
    "\n",
    "    def get_rule_string(self, expression, rule_name, reference_line):\n",
    "\n",
    "        sorted_exp = sorted(expression, key = lambda expr: expr.id)\n",
    "\n",
    "        reference_line_str = f'<td ROWSPAN=\"{len(expression)}\" SIDES=\"L\">{reference_line}</td>' if reference_line is not None or rule_name == 'tautologie' else \"\"\n",
    "\n",
    "        tautologie_line = \"\"\n",
    "        table_head = f'<tr><td COLSPAN=\"3\" ALIGN=\"CENTER\" SIDES=\"B\">{rule_name}</td></tr>'\n",
    "        if rule_name == 'tautologie':\n",
    "            tautologie_line = f'<tr><td COLSPAN=\"3\" ALIGN=\"CENTER\" SIDES=\"T\">X</td></tr>'\n",
    "            table_head = ''\n",
    "\n",
    "        return f'''<\n",
    "        <table border=\"0\" CELLBORDER=\"1\">\n",
    "        {table_head}\n",
    "        {''.join([f'<tr><td BORDER=\"0\" CELLSPACING=\"10\">{orig.id}:</td><td BORDER=\"0\" ALIGN=\"LEFT\">{orig.get_string_rep()}</td>{reference_line_str if i == 0 else \"\"}</tr>' for i, orig in enumerate(sorted_exp)])}\n",
    "        {tautologie_line}\n",
    "        </table>\n",
    "        >'''\n",
    "        # return '\\n'.join([' '.join(item.tokens) for item in expression])\n",
    "\n",
    "    def create_file(self):\n",
    "        return self.graph.to_string()"
   ],
   "metadata": {
    "collapsed": false,
    "pycharm": {
     "name": "#%%\n"
    }
   }
  },
  {
   "cell_type": "code",
   "execution_count": 10,
   "outputs": [
    {
     "name": "stdout",
     "output_type": "stream",
     "text": [
      "['john', 'plays', 'football', 'or', 'john', 'plays', 'chess']\n",
      "['when', 'it', 'is', 'raining', ',', 'john', 'plays', 'not', 'football']\n",
      "['it', 'is', 'raining']\n",
      "['peter', 'plays', 'tennis', 'and', 'peter', 'plays', 'badminton']\n",
      "['john', 'plays', 'football']\n"
     ]
    }
   ],
   "source": [
    "class TableauxSolver:\n",
    "\n",
    "    def __init__(self, hypothesis, thesis):\n",
    "\n",
    "        self.hypothesis: List[Expression] = hypothesis\n",
    "        self.thesis: Expression = thesis\n",
    "        self.applied_rules = []\n",
    "        self.solve_tree = None\n",
    "\n",
    "    def proof(self):\n",
    "        try:\n",
    "            clauses = []\n",
    "            for claus in self.hypothesis:\n",
    "                clauses.append(claus)\n",
    "            self.thesis.reverse_expression()\n",
    "            clauses.append(self.thesis)\n",
    "            self.solve_tree = TreeGenerator(clauses)\n",
    "            result = self.recursive_proof(clauses, [], parent = self.solve_tree.root_node)\n",
    "        except RuntimeError as e:\n",
    "            print(e)\n",
    "            raise e\n",
    "        return result\n",
    "\n",
    "    @staticmethod\n",
    "    def check_for_tautology(hypothesis: Expression, clauses: List[Expression]):\n",
    "        for clause in clauses:\n",
    "            if clause == hypothesis:\n",
    "                continue\n",
    "            if hypothesis.is_tautologie_of(clause):\n",
    "                return True, clause\n",
    "        return False, None\n",
    "\n",
    "    def recursive_proof(self, clauses, applied_rules, parent = None) -> bool:\n",
    "        # Check if we have a tautology in this branch\n",
    "        for i, curr_clause in enumerate(clauses):\n",
    "\n",
    "            res, matched_clause = TableauxSolver.check_for_tautology(curr_clause, clauses)\n",
    "            if res:\n",
    "                # Found Tautology with the matched clause\n",
    "                applied_rule = AppliedRule(\n",
    "                    rule_name = \"tautologie\",\n",
    "                    referenced_line = curr_clause.id,\n",
    "                    c_expression = curr_clause,\n",
    "                    matched_expression = matched_clause,\n",
    "                )\n",
    "                self.applied_rules.append(applied_rule)\n",
    "                self.solve_tree.add_node(parent, applied_rule)\n",
    "                return True\n",
    "\n",
    "        # Go over each clause and check if we can apply a rule\n",
    "        # Keep the branching clauses to the end\n",
    "        for rule_name, rule in rule_set.items():\n",
    "            for i, curr_clause in enumerate(clauses):\n",
    "\n",
    "                # Dont apply rule twice\n",
    "                applied_rule = AppliedRule(\n",
    "                    rule_name = rule_name,\n",
    "                    referenced_line = curr_clause.id,\n",
    "                    c_expression = curr_clause\n",
    "                )\n",
    "                if applied_rule in applied_rules:\n",
    "                    continue\n",
    "\n",
    "                branches = rule(curr_clause)\n",
    "                new_nodes = None\n",
    "\n",
    "                if len(branches) != 0:\n",
    "                    applied_rule.created_expressions = branches\n",
    "                    applied_rules.append(applied_rule)\n",
    "                    self.applied_rules.append(applied_rule)\n",
    "                    new_nodes = self.solve_tree.add_node(parent, applied_rule)\n",
    "                else:\n",
    "                    continue\n",
    "\n",
    "                # if only one branch then we just add the rules to the current set and return\n",
    "                # the recursive call\n",
    "                if len(branches) == 1:\n",
    "                    clauses += branches[0]  # Not sure if we want to create a copy of the list\n",
    "                    return self.recursive_proof(clauses, applied_rules, new_nodes[0])\n",
    "\n",
    "                # If there is more then one branch we need to close every branch\n",
    "                # Go over the list of clauses and create a recursive call for each\n",
    "                closes = True\n",
    "                for j, branch in branches.items():\n",
    "                    next_clauses = list(clauses)\n",
    "                    next_clauses += branch\n",
    "                    branch_close = self.recursive_proof(next_clauses, list(applied_rules), new_nodes[j])\n",
    "                    if not branch_close:\n",
    "                        closes = False\n",
    "\n",
    "                # If not every branch closes then this doesnt work\n",
    "                return closes\n",
    "\n",
    "        # Tested every rule and didn't find anything applicable to close the branch\n",
    "        return False\n"
   ],
   "metadata": {
    "collapsed": false,
    "pycharm": {
     "name": "#%%\n"
    }
   }
  },
  {
   "cell_type": "code",
   "execution_count": 11,
   "outputs": [
    {
     "name": "stdout",
     "output_type": "stream",
     "text": [
      "AppliedRule(rule_name='and_rule', referenced_line=3, position='0', c_expression=['peter', 'plays', 'tennis', 'and', 'peter', 'plays', 'badminton'], matched_expression=None, created_expressions=defaultdict(<class 'list'>, {0: [['peter', 'plays', 'tennis'], ['peter', 'plays', 'badminton']]}))\n",
      "AppliedRule(rule_name='or_rule', referenced_line=0, position='0', c_expression=['john', 'plays', 'football', 'or', 'john', 'plays', 'chess'], matched_expression=None, created_expressions=defaultdict(<class 'list'>, {0: [['john', 'plays', 'football']], 1: [['john', 'plays', 'chess']]}))\n",
      "AppliedRule(rule_name='tautologie', referenced_line=4, position='0.0', c_expression=['john', 'plays', 'not', 'football'], matched_expression=['john', 'plays', 'football'], created_expressions=None)\n",
      "AppliedRule(rule_name='when_rule', referenced_line=1, position='0.1', c_expression=['when', 'it', 'is', 'raining', ',', 'john', 'plays', 'not', 'football'], matched_expression=None, created_expressions=defaultdict(<class 'list'>, {0: [['it', 'is', 'not', 'raining']], 1: [['john', 'plays', 'not', 'football']]}))\n",
      "AppliedRule(rule_name='tautologie', referenced_line=2, position='0.1.0', c_expression=['it', 'is', 'raining'], matched_expression=['it', 'is', 'not', 'raining'], created_expressions=None)\n"
     ]
    }
   ],
   "source": [
    "Expression.id_counter = 1\n",
    "\n",
    "test_exp_1 = Expression(hypo_1)\n",
    "test_exp_4 = Expression(\"Peter plays tennis and badminton\")\n",
    "test_exp_2 = Expression(hypo_2)\n",
    "test_exp_3 = Expression(hypo_3)\n",
    "\n",
    "clause = Expression(\"John plays not football\")\n",
    "\n",
    "print(test_exp_1)\n",
    "print(test_exp_2)\n",
    "print(test_exp_3)\n",
    "print(test_exp_4)\n",
    "print(clause)\n",
    "\n",
    "hypothesis = [test_exp_1, test_exp_2, test_exp_3, test_exp_4]"
   ],
   "metadata": {
    "collapsed": false,
    "pycharm": {
     "name": "#%%\n"
    }
   }
  },
  {
   "cell_type": "code",
   "execution_count": null,
   "outputs": [],
   "source": [
    "solver = TableauxSolver(hypothesis, clause)\n",
    "result = solver.proof()\n",
    "\n",
    "for rule in solver.applied_rules:\n",
    "    print(rule)"
   ],
   "metadata": {
    "collapsed": false,
    "pycharm": {
     "name": "#%%\n"
    }
   }
  },
  {
   "cell_type": "code",
   "execution_count": null,
   "outputs": [],
   "source": [
    "from graphviz import Source\n",
    "\n",
    "src = Source(solver.solve_tree.create_file())\n",
    "src.render('solve-trees/first_example.gv', view=True)"
   ],
   "metadata": {
    "collapsed": false,
    "pycharm": {
     "name": "#%%\n"
    }
   }
  }
 ],
 "metadata": {
  "kernelspec": {
   "name": "python3",
   "language": "python",
   "display_name": "Python 3"
  },
  "language_info": {
   "codemirror_mode": {
    "name": "ipython",
    "version": 2
   },
   "file_extension": ".py",
   "mimetype": "text/x-python",
   "name": "python",
   "nbconvert_exporter": "python",
   "pygments_lexer": "ipython2",
   "version": "2.7.6"
  }
 },
 "nbformat": 4,
 "nbformat_minor": 0
}