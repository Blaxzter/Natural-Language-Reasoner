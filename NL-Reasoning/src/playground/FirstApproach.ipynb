{
 "cells": [
  {
   "cell_type": "code",
   "execution_count": 9,
   "metadata": {
    "collapsed": true,
    "pycharm": {
     "is_executing": false
    }
   },
   "outputs": [],
   "source": [
    "hypo_1 = 'John plays football or chess'\n",
    "hypo_2 = 'When its raining, John does not play football'\n",
    "hypo_3 = 'It is raining'"
   ]
  },
  {
   "cell_type": "code",
   "execution_count": 10,
   "outputs": [],
   "source": [
    "def detect_sentence_structure(hypothesis):\n",
    "    pass\n",
    "\n",
    "def or_expression(hypothesis):\n",
    "   pass "
   ],
   "metadata": {
    "collapsed": false,
    "pycharm": {
     "name": "#%%\n",
     "is_executing": false
    }
   }
  },
  {
   "cell_type": "code",
   "execution_count": 23,
   "outputs": [],
   "source": [
    "class Expression:\n",
    "    def __init__(self, hypothesis):\n",
    "        \n",
    "        if hypothesis is None or type(hypothesis) is not str:\n",
    "            raise ValueError(\"A hypothesis needs to be of type string and can't be empty.\")\n",
    "        \n",
    "        self.init_hypo = hypothesis.lower()         # Only use lower case\n",
    "        self.tokens = self.init_hypo.split(\" \")     # Split hypo into tokens\n",
    "        self.split_references()\n",
    "        \n",
    "    def split_references(self):\n",
    "        for reference in ['or', 'and']:\n",
    "            if reference in self.tokens:\n",
    "                reference_idx = self.tokens.index(reference)\n",
    "                right_tokens = self.tokens[reference_idx + 1:]\n",
    "                base_tokens = self.tokens[:reference_idx - 1]\n",
    "                left_tokens = self.tokens[:reference_idx]\n",
    "                \n",
    "                self.tokens = left_tokens + [reference] + base_tokens + right_tokens\n",
    "\n",
    "    def __str__(self):\n",
    "        return str(self.tokens)"
   ],
   "metadata": {
    "collapsed": false,
    "pycharm": {
     "name": "#%%\n",
     "is_executing": false
    }
   }
  },
  {
   "cell_type": "code",
   "execution_count": 24,
   "outputs": [
    {
     "data": {
      "text/plain": "['John', 'plays']"
     },
     "metadata": {},
     "output_type": "execute_result",
     "execution_count": 24
    }
   ],
   "source": [
    "hypo_1.lower()\n",
    "tokens = hypo_1.split(\" \")\n",
    "\"or\" in tokens\n",
    "tokens[tokens.index(\"or\") + 1:]\n",
    "tokens[:tokens.index(\"or\") - 1]"
   ],
   "metadata": {
    "collapsed": false,
    "pycharm": {
     "name": "#%%\n",
     "is_executing": false
    }
   }
  },
  {
   "cell_type": "code",
   "execution_count": 25,
   "outputs": [
    {
     "name": "stdout",
     "text": [
      "['john', 'plays', 'football', 'or', 'john', 'plays', 'chess']\n"
     ],
     "output_type": "stream"
    }
   ],
   "source": [
    "exp = Expression(hypo_1)\n",
    "print(exp)"
   ],
   "metadata": {
    "collapsed": false,
    "pycharm": {
     "name": "#%%\n",
     "is_executing": false
    }
   }
  },
  {
   "cell_type": "code",
   "execution_count": null,
   "outputs": [],
   "source": [
    "\n",
    "class TableauxSolver:\n",
    "    \n",
    "    def __init__(self, hypothesis, thesis):\n",
    "        \n",
    "        self.hypothesis = hypothesis\n",
    "        self.thesis = thesis\n",
    "        \n",
    "    \n"
   ],
   "metadata": {
    "collapsed": false,
    "pycharm": {
     "name": "#%%\n"
    }
   }
  }
 ],
 "metadata": {
  "kernelspec": {
   "name": "python3",
   "language": "python",
   "display_name": "Python 3"
  },
  "language_info": {
   "codemirror_mode": {
    "name": "ipython",
    "version": 2
   },
   "file_extension": ".py",
   "mimetype": "text/x-python",
   "name": "python",
   "nbconvert_exporter": "python",
   "pygments_lexer": "ipython2",
   "version": "2.7.6"
  },
  "pycharm": {
   "stem_cell": {
    "cell_type": "raw",
    "source": [],
    "metadata": {
     "collapsed": false
    }
   }
  }
 },
 "nbformat": 4,
 "nbformat_minor": 0
}