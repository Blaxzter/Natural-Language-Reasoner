{
 "cells": [
  {
   "cell_type": "code",
   "execution_count": 8,
   "metadata": {
    "collapsed": true
   },
   "outputs": [],
   "source": [
    "from nltk import *\n",
    "from nltk.sem.drt import DrtParser\n",
    "from nltk.sem import logic\n",
    "from nltk.sem import Expression\n",
    "\n",
    "logic._counter._value = 0"
   ]
  },
  {
   "cell_type": "code",
   "execution_count": 9,
   "outputs": [],
   "source": [
    "read_expr = Expression.fromstring\n",
    "p1 = read_expr('man(socrates)')\n",
    "p2 = read_expr('all x.(man(x) -> mortal(x))')\n",
    "c  = read_expr('mortal(socrates)')"
   ],
   "metadata": {
    "collapsed": false,
    "pycharm": {
     "name": "#%%\n"
    }
   }
  },
  {
   "cell_type": "code",
   "execution_count": 10,
   "outputs": [
    {
     "data": {
      "text/plain": "True"
     },
     "execution_count": 10,
     "metadata": {},
     "output_type": "execute_result"
    }
   ],
   "source": [
    "TableauProver().prove(c, [p1,p2])"
   ],
   "metadata": {
    "collapsed": false,
    "pycharm": {
     "name": "#%%\n"
    }
   }
  },
  {
   "cell_type": "code",
   "execution_count": 11,
   "outputs": [
    {
     "ename": "LookupError",
     "evalue": "\n\n===========================================================================\nNLTK was unable to find the prover9 file!\nUse software specific configuration paramaters or set the PROVER9 environment variable.\n\n  Searched in:\n    - /usr/local/bin/prover9\n    - /usr/local/bin/prover9/bin\n    - /usr/local/bin\n    - /usr/bin\n    - /usr/local/prover9\n    - /usr/local/share/prover9\n\n  For more information on prover9, see:\n    <http://www.cs.unm.edu/~mccune/prover9/>\n===========================================================================",
     "output_type": "error",
     "traceback": [
      "\u001B[1;31m---------------------------------------------------------------------------\u001B[0m",
      "\u001B[1;31mLookupError\u001B[0m                               Traceback (most recent call last)",
      "\u001B[1;32m<ipython-input-11-ea440e177882>\u001B[0m in \u001B[0;36m<module>\u001B[1;34m\u001B[0m\n\u001B[1;32m----> 1\u001B[1;33m \u001B[0mProver9\u001B[0m\u001B[1;33m(\u001B[0m\u001B[1;33m)\u001B[0m\u001B[1;33m.\u001B[0m\u001B[0mprove\u001B[0m\u001B[1;33m(\u001B[0m\u001B[0mc\u001B[0m\u001B[1;33m,\u001B[0m \u001B[1;33m[\u001B[0m\u001B[0mp1\u001B[0m\u001B[1;33m,\u001B[0m\u001B[0mp2\u001B[0m\u001B[1;33m]\u001B[0m\u001B[1;33m)\u001B[0m\u001B[1;33m\u001B[0m\u001B[1;33m\u001B[0m\u001B[0m\n\u001B[0m\u001B[0;32m      2\u001B[0m \u001B[1;33m\u001B[0m\u001B[0m\n",
      "\u001B[1;32mu:\\programming\\uni\\nl-reasoning\\nl-reasoning\\venv\\lib\\site-packages\\nltk\\inference\\api.py\u001B[0m in \u001B[0;36mprove\u001B[1;34m(self, goal, assumptions, verbose)\u001B[0m\n\u001B[0;32m     35\u001B[0m         \u001B[1;33m:\u001B[0m\u001B[0mrtype\u001B[0m\u001B[1;33m:\u001B[0m \u001B[0mbool\u001B[0m\u001B[1;33m\u001B[0m\u001B[1;33m\u001B[0m\u001B[0m\n\u001B[0;32m     36\u001B[0m         \"\"\"\n\u001B[1;32m---> 37\u001B[1;33m         \u001B[1;32mreturn\u001B[0m \u001B[0mself\u001B[0m\u001B[1;33m.\u001B[0m\u001B[0m_prove\u001B[0m\u001B[1;33m(\u001B[0m\u001B[0mgoal\u001B[0m\u001B[1;33m,\u001B[0m \u001B[0massumptions\u001B[0m\u001B[1;33m,\u001B[0m \u001B[0mverbose\u001B[0m\u001B[1;33m)\u001B[0m\u001B[1;33m[\u001B[0m\u001B[1;36m0\u001B[0m\u001B[1;33m]\u001B[0m\u001B[1;33m\u001B[0m\u001B[1;33m\u001B[0m\u001B[0m\n\u001B[0m\u001B[0;32m     38\u001B[0m \u001B[1;33m\u001B[0m\u001B[0m\n\u001B[0;32m     39\u001B[0m     \u001B[1;33m@\u001B[0m\u001B[0mabstractmethod\u001B[0m\u001B[1;33m\u001B[0m\u001B[1;33m\u001B[0m\u001B[0m\n",
      "\u001B[1;32mu:\\programming\\uni\\nl-reasoning\\nl-reasoning\\venv\\lib\\site-packages\\nltk\\inference\\prover9.py\u001B[0m in \u001B[0;36m_prove\u001B[1;34m(self, goal, assumptions, verbose)\u001B[0m\n\u001B[0;32m    325\u001B[0m             \u001B[0massumptions\u001B[0m \u001B[1;33m=\u001B[0m \u001B[1;33m[\u001B[0m\u001B[1;33m]\u001B[0m\u001B[1;33m\u001B[0m\u001B[1;33m\u001B[0m\u001B[0m\n\u001B[0;32m    326\u001B[0m \u001B[1;33m\u001B[0m\u001B[0m\n\u001B[1;32m--> 327\u001B[1;33m         stdout, returncode = self._call_prover9(\n\u001B[0m\u001B[0;32m    328\u001B[0m             \u001B[0mself\u001B[0m\u001B[1;33m.\u001B[0m\u001B[0mprover9_input\u001B[0m\u001B[1;33m(\u001B[0m\u001B[0mgoal\u001B[0m\u001B[1;33m,\u001B[0m \u001B[0massumptions\u001B[0m\u001B[1;33m)\u001B[0m\u001B[1;33m,\u001B[0m \u001B[0mverbose\u001B[0m\u001B[1;33m=\u001B[0m\u001B[0mverbose\u001B[0m\u001B[1;33m\u001B[0m\u001B[1;33m\u001B[0m\u001B[0m\n\u001B[0;32m    329\u001B[0m         )\n",
      "\u001B[1;32mu:\\programming\\uni\\nl-reasoning\\nl-reasoning\\venv\\lib\\site-packages\\nltk\\inference\\prover9.py\u001B[0m in \u001B[0;36m_call_prover9\u001B[1;34m(self, input_str, args, verbose)\u001B[0m\n\u001B[0;32m    347\u001B[0m         \"\"\"\n\u001B[0;32m    348\u001B[0m         \u001B[1;32mif\u001B[0m \u001B[0mself\u001B[0m\u001B[1;33m.\u001B[0m\u001B[0m_prover9_bin\u001B[0m \u001B[1;32mis\u001B[0m \u001B[1;32mNone\u001B[0m\u001B[1;33m:\u001B[0m\u001B[1;33m\u001B[0m\u001B[1;33m\u001B[0m\u001B[0m\n\u001B[1;32m--> 349\u001B[1;33m             \u001B[0mself\u001B[0m\u001B[1;33m.\u001B[0m\u001B[0m_prover9_bin\u001B[0m \u001B[1;33m=\u001B[0m \u001B[0mself\u001B[0m\u001B[1;33m.\u001B[0m\u001B[0m_find_binary\u001B[0m\u001B[1;33m(\u001B[0m\u001B[1;34m\"prover9\"\u001B[0m\u001B[1;33m,\u001B[0m \u001B[0mverbose\u001B[0m\u001B[1;33m)\u001B[0m\u001B[1;33m\u001B[0m\u001B[1;33m\u001B[0m\u001B[0m\n\u001B[0m\u001B[0;32m    350\u001B[0m \u001B[1;33m\u001B[0m\u001B[0m\n\u001B[0;32m    351\u001B[0m         \u001B[0mupdated_input_str\u001B[0m \u001B[1;33m=\u001B[0m \u001B[1;34m\"\"\u001B[0m\u001B[1;33m\u001B[0m\u001B[1;33m\u001B[0m\u001B[0m\n",
      "\u001B[1;32mu:\\programming\\uni\\nl-reasoning\\nl-reasoning\\venv\\lib\\site-packages\\nltk\\inference\\prover9.py\u001B[0m in \u001B[0;36m_find_binary\u001B[1;34m(self, name, verbose)\u001B[0m\n\u001B[0;32m    175\u001B[0m         \u001B[1;32mif\u001B[0m \u001B[0mself\u001B[0m\u001B[1;33m.\u001B[0m\u001B[0m_binary_location\u001B[0m \u001B[1;32mis\u001B[0m \u001B[1;32mnot\u001B[0m \u001B[1;32mNone\u001B[0m\u001B[1;33m:\u001B[0m\u001B[1;33m\u001B[0m\u001B[1;33m\u001B[0m\u001B[0m\n\u001B[0;32m    176\u001B[0m             \u001B[0mbinary_locations\u001B[0m \u001B[1;33m+=\u001B[0m \u001B[1;33m[\u001B[0m\u001B[0mself\u001B[0m\u001B[1;33m.\u001B[0m\u001B[0m_binary_location\u001B[0m\u001B[1;33m]\u001B[0m\u001B[1;33m\u001B[0m\u001B[1;33m\u001B[0m\u001B[0m\n\u001B[1;32m--> 177\u001B[1;33m         return nltk.internals.find_binary(\n\u001B[0m\u001B[0;32m    178\u001B[0m             \u001B[0mname\u001B[0m\u001B[1;33m,\u001B[0m\u001B[1;33m\u001B[0m\u001B[1;33m\u001B[0m\u001B[0m\n\u001B[0;32m    179\u001B[0m             \u001B[0msearchpath\u001B[0m\u001B[1;33m=\u001B[0m\u001B[0mbinary_locations\u001B[0m\u001B[1;33m,\u001B[0m\u001B[1;33m\u001B[0m\u001B[1;33m\u001B[0m\u001B[0m\n",
      "\u001B[1;32mu:\\programming\\uni\\nl-reasoning\\nl-reasoning\\venv\\lib\\site-packages\\nltk\\internals.py\u001B[0m in \u001B[0;36mfind_binary\u001B[1;34m(name, path_to_bin, env_vars, searchpath, binary_names, url, verbose)\u001B[0m\n\u001B[0;32m    686\u001B[0m     \u001B[0mverbose\u001B[0m\u001B[1;33m=\u001B[0m\u001B[1;32mFalse\u001B[0m\u001B[1;33m,\u001B[0m\u001B[1;33m\u001B[0m\u001B[1;33m\u001B[0m\u001B[0m\n\u001B[0;32m    687\u001B[0m ):\n\u001B[1;32m--> 688\u001B[1;33m     return next(\n\u001B[0m\u001B[0;32m    689\u001B[0m         find_binary_iter(\n\u001B[0;32m    690\u001B[0m             \u001B[0mname\u001B[0m\u001B[1;33m,\u001B[0m \u001B[0mpath_to_bin\u001B[0m\u001B[1;33m,\u001B[0m \u001B[0menv_vars\u001B[0m\u001B[1;33m,\u001B[0m \u001B[0msearchpath\u001B[0m\u001B[1;33m,\u001B[0m \u001B[0mbinary_names\u001B[0m\u001B[1;33m,\u001B[0m \u001B[0murl\u001B[0m\u001B[1;33m,\u001B[0m \u001B[0mverbose\u001B[0m\u001B[1;33m\u001B[0m\u001B[1;33m\u001B[0m\u001B[0m\n",
      "\u001B[1;32mu:\\programming\\uni\\nl-reasoning\\nl-reasoning\\venv\\lib\\site-packages\\nltk\\internals.py\u001B[0m in \u001B[0;36mfind_binary_iter\u001B[1;34m(name, path_to_bin, env_vars, searchpath, binary_names, url, verbose)\u001B[0m\n\u001B[0;32m    671\u001B[0m     \u001B[1;33m:\u001B[0m\u001B[0mparam\u001B[0m \u001B[0mverbose\u001B[0m\u001B[1;33m:\u001B[0m \u001B[0mWhether\u001B[0m \u001B[1;32mor\u001B[0m \u001B[1;32mnot\u001B[0m \u001B[0mto\u001B[0m \u001B[0mprint\u001B[0m \u001B[0mpath\u001B[0m \u001B[0mwhen\u001B[0m \u001B[0ma\u001B[0m \u001B[0mfile\u001B[0m \u001B[1;32mis\u001B[0m \u001B[0mfound\u001B[0m\u001B[1;33m.\u001B[0m\u001B[1;33m\u001B[0m\u001B[1;33m\u001B[0m\u001B[0m\n\u001B[0;32m    672\u001B[0m     \"\"\"\n\u001B[1;32m--> 673\u001B[1;33m     for file in find_file_iter(\n\u001B[0m\u001B[0;32m    674\u001B[0m         \u001B[0mpath_to_bin\u001B[0m \u001B[1;32mor\u001B[0m \u001B[0mname\u001B[0m\u001B[1;33m,\u001B[0m \u001B[0menv_vars\u001B[0m\u001B[1;33m,\u001B[0m \u001B[0msearchpath\u001B[0m\u001B[1;33m,\u001B[0m \u001B[0mbinary_names\u001B[0m\u001B[1;33m,\u001B[0m \u001B[0murl\u001B[0m\u001B[1;33m,\u001B[0m \u001B[0mverbose\u001B[0m\u001B[1;33m\u001B[0m\u001B[1;33m\u001B[0m\u001B[0m\n\u001B[0;32m    675\u001B[0m     ):\n",
      "\u001B[1;32mu:\\programming\\uni\\nl-reasoning\\nl-reasoning\\venv\\lib\\site-packages\\nltk\\internals.py\u001B[0m in \u001B[0;36mfind_file_iter\u001B[1;34m(filename, env_vars, searchpath, file_names, url, verbose, finding_dir)\u001B[0m\n\u001B[0;32m    630\u001B[0m             \u001B[0mmsg\u001B[0m \u001B[1;33m+=\u001B[0m \u001B[1;34m\"\\n\\n  For more information on %s, see:\\n    <%s>\"\u001B[0m \u001B[1;33m%\u001B[0m \u001B[1;33m(\u001B[0m\u001B[0mfilename\u001B[0m\u001B[1;33m,\u001B[0m \u001B[0murl\u001B[0m\u001B[1;33m)\u001B[0m\u001B[1;33m\u001B[0m\u001B[1;33m\u001B[0m\u001B[0m\n\u001B[0;32m    631\u001B[0m         \u001B[0mdiv\u001B[0m \u001B[1;33m=\u001B[0m \u001B[1;34m\"=\"\u001B[0m \u001B[1;33m*\u001B[0m \u001B[1;36m75\u001B[0m\u001B[1;33m\u001B[0m\u001B[1;33m\u001B[0m\u001B[0m\n\u001B[1;32m--> 632\u001B[1;33m         \u001B[1;32mraise\u001B[0m \u001B[0mLookupError\u001B[0m\u001B[1;33m(\u001B[0m\u001B[1;34m\"\\n\\n%s\\n%s\\n%s\"\u001B[0m \u001B[1;33m%\u001B[0m \u001B[1;33m(\u001B[0m\u001B[0mdiv\u001B[0m\u001B[1;33m,\u001B[0m \u001B[0mmsg\u001B[0m\u001B[1;33m,\u001B[0m \u001B[0mdiv\u001B[0m\u001B[1;33m)\u001B[0m\u001B[1;33m)\u001B[0m\u001B[1;33m\u001B[0m\u001B[1;33m\u001B[0m\u001B[0m\n\u001B[0m\u001B[0;32m    633\u001B[0m \u001B[1;33m\u001B[0m\u001B[0m\n\u001B[0;32m    634\u001B[0m \u001B[1;33m\u001B[0m\u001B[0m\n",
      "\u001B[1;31mLookupError\u001B[0m: \n\n===========================================================================\nNLTK was unable to find the prover9 file!\nUse software specific configuration paramaters or set the PROVER9 environment variable.\n\n  Searched in:\n    - /usr/local/bin/prover9\n    - /usr/local/bin/prover9/bin\n    - /usr/local/bin\n    - /usr/bin\n    - /usr/local/prover9\n    - /usr/local/share/prover9\n\n  For more information on prover9, see:\n    <http://www.cs.unm.edu/~mccune/prover9/>\n==========================================================================="
     ]
    }
   ],
   "source": [
    "Prover9().prove(c, [p1,p2])\n"
   ],
   "metadata": {
    "collapsed": false,
    "pycharm": {
     "name": "#%%\n"
    }
   }
  },
  {
   "cell_type": "code",
   "execution_count": 7,
   "outputs": [
    {
     "name": "stdout",
     "output_type": "stream",
     "text": [
      "[1] {-mortal(socrates)}     A \n",
      "[2] {man(socrates)}         A \n",
      "[3] {-man(z2), mortal(z2)}  A \n",
      "[4] {-man(socrates)}        (1, 3) \n",
      "[5] {mortal(socrates)}      (2, 3) \n",
      "[6] {}                      (1, 5) \n",
      "\n"
     ]
    },
    {
     "data": {
      "text/plain": "True"
     },
     "execution_count": 7,
     "metadata": {},
     "output_type": "execute_result"
    }
   ],
   "source": [
    "ResolutionProver().prove(c, [p1,p2], verbose=True)\n"
   ],
   "metadata": {
    "collapsed": false,
    "pycharm": {
     "name": "#%%\n"
    }
   }
  },
  {
   "cell_type": "code",
   "execution_count": null,
   "outputs": [],
   "source": [],
   "metadata": {
    "collapsed": false,
    "pycharm": {
     "name": "#%%\n"
    }
   }
  }
 ],
 "metadata": {
  "kernelspec": {
   "display_name": "Python 3",
   "language": "python",
   "name": "python3"
  },
  "language_info": {
   "codemirror_mode": {
    "name": "ipython",
    "version": 2
   },
   "file_extension": ".py",
   "mimetype": "text/x-python",
   "name": "python",
   "nbconvert_exporter": "python",
   "pygments_lexer": "ipython2",
   "version": "2.7.6"
  }
 },
 "nbformat": 4,
 "nbformat_minor": 0
}